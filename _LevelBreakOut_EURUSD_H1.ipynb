{
 "cells": [
  {
   "cell_type": "markdown",
   "metadata": {},
   "source": [
    "# Level Break Out"
   ]
  },
  {
   "cell_type": "markdown",
   "metadata": {},
   "source": [
    "### Load the data"
   ]
  },
  {
   "cell_type": "code",
   "execution_count": 5,
   "metadata": {},
   "outputs": [],
   "source": [
    "import pandas as pd\n",
    "import pandas_ta as ta\n",
    "import pandas as pd\n",
    "import numpy as np\n",
    "import plotly.graph_objects as go\n",
    "from scipy import stats\n",
    "\n",
    "df = pd.read_csv(\"RawDataDoNotModify/BTCUSD_Candlestick_1_Hour_BID_01.01.2020-31.08.2024.csv\")\n",
    "df.rename(columns={'Open':'open','High':'high','Low':'low','Close':'close','Volume':'volume'},inplace=True)\n",
    "df=df[df['volume']!=0]\n",
    "df.reset_index(drop=True, inplace=True)\n",
    "\n",
    "df['EMA'] = ta.ema(df.close, length=150)\n",
    "df.tail()\n",
    "\n",
    "df=df[0:10000]"
   ]
  },
  {
   "cell_type": "markdown",
   "metadata": {},
   "source": [
    "### Trend detection"
   ]
  },
  {
   "cell_type": "code",
   "execution_count": 6,
   "metadata": {},
   "outputs": [],
   "source": [
    "EMAsignal = [0]*len(df)\n",
    "backcandles = 15\n",
    "\n",
    "for row in range(backcandles, len(df)):\n",
    "    upt = 1\n",
    "    dnt = 1\n",
    "    for i in range(row-backcandles, row+1):\n",
    "        if max(df.open[i], df.close[i])>=df.EMA[i]:\n",
    "            dnt=0\n",
    "        if min(df.open[i], df.close[i])<=df.EMA[i]:\n",
    "            upt=0\n",
    "    if upt==1 and dnt==1:\n",
    "        EMAsignal[row]=3\n",
    "    elif upt==1:\n",
    "        EMAsignal[row]=2\n",
    "    elif dnt==1:\n",
    "        EMAsignal[row]=1\n",
    "\n",
    "df['EMASignal'] = EMAsignal"
   ]
  },
  {
   "cell_type": "code",
   "execution_count": 7,
   "metadata": {},
   "outputs": [],
   "source": [
    "def isPivot(candle, window):\n",
    "    \"\"\"\n",
    "    function that detects if a candle is a pivot/fractal point\n",
    "    args: candle index, window before and after candle to test if pivot\n",
    "    returns: 1 if pivot high, 2 if pivot low, 3 if both and 0 default\n",
    "    \"\"\"\n",
    "    if candle-window < 0 or candle+window >= len(df):\n",
    "        return 0\n",
    "    \n",
    "    pivotHigh = 1\n",
    "    pivotLow = 2\n",
    "    for i in range(candle-window, candle+window+1):\n",
    "        if df.iloc[candle].low > df.iloc[i].low:\n",
    "            pivotLow=0\n",
    "        if df.iloc[candle].high < df.iloc[i].high:\n",
    "            pivotHigh=0\n",
    "    if (pivotHigh and pivotLow):\n",
    "        return 3\n",
    "    elif pivotHigh:\n",
    "        return pivotHigh\n",
    "    elif pivotLow:\n",
    "        return pivotLow\n",
    "    else:\n",
    "        return 0"
   ]
  },
  {
   "cell_type": "code",
   "execution_count": 8,
   "metadata": {},
   "outputs": [],
   "source": [
    "window=10\n",
    "df['isPivot'] = df.apply(lambda x: isPivot(x.name,window), axis=1)"
   ]
  },
  {
   "cell_type": "code",
   "execution_count": 9,
   "metadata": {},
   "outputs": [],
   "source": [
    "def pointpos(x):\n",
    "    if x['isPivot']==2:\n",
    "        return x['low']-1e-3\n",
    "    elif x['isPivot']==1:\n",
    "        return x['high']+1e-3\n",
    "    else:\n",
    "        return np.nan\n",
    "df['pointpos'] = df.apply(lambda row: pointpos(row), axis=1)"
   ]
  },
  {
   "cell_type": "code",
   "execution_count": 17,
   "metadata": {},
   "outputs": [
    {
     "data": {
      "application/vnd.plotly.v1+json": {
       "config": {
        "plotlyServerURL": "https://plot.ly"
       },
       "data": [
        {
         "close": [
          53852,
          54187,
          54648,
          55195,
          54782,
          54818,
          55175,
          56258,
          56139,
          56345,
          57023,
          56852,
          56697,
          56700,
          56232,
          56888,
          56882,
          55837,
          55588,
          55750,
          56263,
          55935,
          55781,
          55212,
          55498,
          54978,
          54710,
          54431,
          55507,
          56209,
          56223,
          56878,
          56768,
          56321,
          56851,
          56812,
          57482,
          56799,
          57439,
          57564,
          57880,
          57762,
          57327,
          56860,
          56937,
          57065,
          56665,
          57124,
          57019,
          56649,
          56521,
          56479,
          56675,
          56444,
          56328,
          55661,
          56163,
          56937,
          57356,
          57103,
          57301,
          56901,
          56696,
          56920,
          57146,
          57195,
          56649,
          56354,
          56436,
          56641,
          56825,
          56683,
          56875,
          57301,
          57361,
          57528,
          59324,
          59780,
          59840,
          59882,
          59714,
          59603,
          59800,
          60284,
          60243,
          60728,
          61562,
          61030,
          61010,
          61123,
          61206,
          61020,
          61001,
          61302,
          61157,
          60961,
          60899,
          60436,
          60721,
          60847
         ],
         "high": [
          54059,
          54403,
          54712,
          55376,
          55323,
          54943,
          55440,
          56296,
          56393,
          56459,
          57095,
          57107,
          57097,
          57340,
          56853,
          56970,
          57164,
          56912,
          56449,
          55877,
          56266,
          56417,
          56124,
          55781,
          55677,
          55715,
          55037,
          54862,
          55563,
          56229,
          56373,
          56951,
          57167,
          57047,
          56972,
          56998,
          57640,
          57609,
          57561,
          57870,
          57987,
          58100,
          58020,
          57597,
          57061,
          57238,
          57170,
          57206,
          57362,
          57019,
          57043,
          56761,
          56803,
          57005,
          56765,
          56332,
          56165,
          57044,
          57598,
          57702,
          57612,
          57500,
          57104,
          57154,
          57397,
          57446,
          57226,
          56652,
          56572,
          56730,
          56838,
          57008,
          57002,
          57336,
          57562,
          57528,
          59678,
          60022,
          60344,
          60097,
          60032,
          59891,
          59890,
          60352,
          60381,
          60785,
          61722,
          61634,
          61165,
          61392,
          61625,
          61208,
          61155,
          61385,
          61449,
          61206,
          60961,
          60899,
          60792,
          61045
         ],
         "low": [
          53514,
          53839,
          54067,
          54321,
          54693,
          54510,
          54810,
          55114,
          55785,
          55983,
          56113,
          56357,
          56583,
          56599,
          56034,
          55503,
          56477,
          55797,
          55482,
          55129,
          55623,
          55566,
          55590,
          55177,
          54974,
          54974,
          54268,
          54408,
          54388,
          55400,
          55722,
          56223,
          56455,
          55924,
          56311,
          56291,
          56532,
          56708,
          56601,
          57285,
          57457,
          57621,
          56775,
          56626,
          56678,
          56789,
          56460,
          56338,
          56882,
          56451,
          56268,
          56280,
          55806,
          56312,
          56157,
          55025,
          55332,
          56012,
          56933,
          57025,
          57033,
          56710,
          56404,
          56260,
          56846,
          57129,
          56275,
          56056,
          56058,
          56282,
          56236,
          56563,
          56480,
          56723,
          57057,
          57196,
          57394,
          59318,
          59237,
          59448,
          59672,
          59492,
          59419,
          59742,
          59962,
          60117,
          60651,
          60534,
          60699,
          61009,
          60895,
          60694,
          60762,
          60872,
          61062,
          60861,
          60494,
          60404,
          60202,
          60639
         ],
         "open": [
          53637,
          53850,
          54185,
          54647,
          55197,
          54784,
          54821,
          55176,
          56259,
          56139,
          56345,
          57023,
          56852,
          56697,
          56700,
          56230,
          56883,
          56882,
          55836,
          55588,
          55749,
          56262,
          55937,
          55780,
          55211,
          55500,
          54979,
          54709,
          54430,
          55507,
          56209,
          56223,
          56881,
          56768,
          56321,
          56852,
          56812,
          57482,
          56795,
          57440,
          57563,
          57878,
          57762,
          57327,
          56861,
          56937,
          57065,
          56665,
          57117,
          57019,
          56645,
          56513,
          56478,
          56674,
          56443,
          56328,
          55661,
          56165,
          56937,
          57355,
          57103,
          57301,
          56903,
          56688,
          56921,
          57136,
          57195,
          56652,
          56357,
          56437,
          56637,
          56830,
          56685,
          56875,
          57305,
          57360,
          57528,
          59324,
          59781,
          59838,
          59882,
          59713,
          59604,
          59800,
          60284,
          60246,
          60727,
          61562,
          61031,
          61010,
          61127,
          61206,
          61020,
          61001,
          61302,
          61157,
          60961,
          60899,
          60436,
          60721
         ],
         "type": "candlestick",
         "x": [
          8700,
          8701,
          8702,
          8703,
          8704,
          8705,
          8706,
          8707,
          8708,
          8709,
          8710,
          8711,
          8712,
          8713,
          8714,
          8715,
          8716,
          8717,
          8718,
          8719,
          8720,
          8721,
          8722,
          8723,
          8724,
          8725,
          8726,
          8727,
          8728,
          8729,
          8730,
          8731,
          8732,
          8733,
          8734,
          8735,
          8736,
          8737,
          8738,
          8739,
          8740,
          8741,
          8742,
          8743,
          8744,
          8745,
          8746,
          8747,
          8748,
          8749,
          8750,
          8751,
          8752,
          8753,
          8754,
          8755,
          8756,
          8757,
          8758,
          8759,
          8760,
          8761,
          8762,
          8763,
          8764,
          8765,
          8766,
          8767,
          8768,
          8769,
          8770,
          8771,
          8772,
          8773,
          8774,
          8775,
          8776,
          8777,
          8778,
          8779,
          8780,
          8781,
          8782,
          8783,
          8784,
          8785,
          8786,
          8787,
          8788,
          8789,
          8790,
          8791,
          8792,
          8793,
          8794,
          8795,
          8796,
          8797,
          8798,
          8799
         ]
        },
        {
         "marker": {
          "color": "MediumPurple",
          "size": 5
         },
         "mode": "markers",
         "name": "pivot",
         "type": "scatter",
         "x": [
          8700,
          8701,
          8702,
          8703,
          8704,
          8705,
          8706,
          8707,
          8708,
          8709,
          8710,
          8711,
          8712,
          8713,
          8714,
          8715,
          8716,
          8717,
          8718,
          8719,
          8720,
          8721,
          8722,
          8723,
          8724,
          8725,
          8726,
          8727,
          8728,
          8729,
          8730,
          8731,
          8732,
          8733,
          8734,
          8735,
          8736,
          8737,
          8738,
          8739,
          8740,
          8741,
          8742,
          8743,
          8744,
          8745,
          8746,
          8747,
          8748,
          8749,
          8750,
          8751,
          8752,
          8753,
          8754,
          8755,
          8756,
          8757,
          8758,
          8759,
          8760,
          8761,
          8762,
          8763,
          8764,
          8765,
          8766,
          8767,
          8768,
          8769,
          8770,
          8771,
          8772,
          8773,
          8774,
          8775,
          8776,
          8777,
          8778,
          8779,
          8780,
          8781,
          8782,
          8783,
          8784,
          8785,
          8786,
          8787,
          8788,
          8789,
          8790,
          8791,
          8792,
          8793,
          8794,
          8795,
          8796,
          8797,
          8798,
          8799
         ],
         "y": [
          null,
          null,
          null,
          null,
          null,
          null,
          null,
          null,
          null,
          null,
          null,
          null,
          null,
          57340.001,
          null,
          null,
          null,
          null,
          null,
          null,
          null,
          null,
          null,
          null,
          null,
          null,
          54267.999,
          null,
          null,
          null,
          null,
          null,
          null,
          null,
          null,
          null,
          null,
          null,
          null,
          null,
          null,
          58100.001,
          null,
          null,
          null,
          null,
          null,
          null,
          null,
          null,
          null,
          null,
          null,
          null,
          null,
          55024.999,
          null,
          null,
          null,
          57702.001,
          null,
          null,
          null,
          null,
          null,
          null,
          null,
          null,
          null,
          null,
          null,
          null,
          null,
          null,
          null,
          null,
          null,
          null,
          null,
          null,
          null,
          null,
          null,
          null,
          null,
          null,
          61722.001,
          null,
          null,
          null,
          null,
          null,
          null,
          null,
          null,
          null,
          null,
          null,
          null,
          null
         ]
        }
       ],
       "layout": {
        "template": {
         "data": {
          "bar": [
           {
            "error_x": {
             "color": "#2a3f5f"
            },
            "error_y": {
             "color": "#2a3f5f"
            },
            "marker": {
             "line": {
              "color": "#E5ECF6",
              "width": 0.5
             },
             "pattern": {
              "fillmode": "overlay",
              "size": 10,
              "solidity": 0.2
             }
            },
            "type": "bar"
           }
          ],
          "barpolar": [
           {
            "marker": {
             "line": {
              "color": "#E5ECF6",
              "width": 0.5
             },
             "pattern": {
              "fillmode": "overlay",
              "size": 10,
              "solidity": 0.2
             }
            },
            "type": "barpolar"
           }
          ],
          "carpet": [
           {
            "aaxis": {
             "endlinecolor": "#2a3f5f",
             "gridcolor": "white",
             "linecolor": "white",
             "minorgridcolor": "white",
             "startlinecolor": "#2a3f5f"
            },
            "baxis": {
             "endlinecolor": "#2a3f5f",
             "gridcolor": "white",
             "linecolor": "white",
             "minorgridcolor": "white",
             "startlinecolor": "#2a3f5f"
            },
            "type": "carpet"
           }
          ],
          "choropleth": [
           {
            "colorbar": {
             "outlinewidth": 0,
             "ticks": ""
            },
            "type": "choropleth"
           }
          ],
          "contour": [
           {
            "colorbar": {
             "outlinewidth": 0,
             "ticks": ""
            },
            "colorscale": [
             [
              0,
              "#0d0887"
             ],
             [
              0.1111111111111111,
              "#46039f"
             ],
             [
              0.2222222222222222,
              "#7201a8"
             ],
             [
              0.3333333333333333,
              "#9c179e"
             ],
             [
              0.4444444444444444,
              "#bd3786"
             ],
             [
              0.5555555555555556,
              "#d8576b"
             ],
             [
              0.6666666666666666,
              "#ed7953"
             ],
             [
              0.7777777777777778,
              "#fb9f3a"
             ],
             [
              0.8888888888888888,
              "#fdca26"
             ],
             [
              1,
              "#f0f921"
             ]
            ],
            "type": "contour"
           }
          ],
          "contourcarpet": [
           {
            "colorbar": {
             "outlinewidth": 0,
             "ticks": ""
            },
            "type": "contourcarpet"
           }
          ],
          "heatmap": [
           {
            "colorbar": {
             "outlinewidth": 0,
             "ticks": ""
            },
            "colorscale": [
             [
              0,
              "#0d0887"
             ],
             [
              0.1111111111111111,
              "#46039f"
             ],
             [
              0.2222222222222222,
              "#7201a8"
             ],
             [
              0.3333333333333333,
              "#9c179e"
             ],
             [
              0.4444444444444444,
              "#bd3786"
             ],
             [
              0.5555555555555556,
              "#d8576b"
             ],
             [
              0.6666666666666666,
              "#ed7953"
             ],
             [
              0.7777777777777778,
              "#fb9f3a"
             ],
             [
              0.8888888888888888,
              "#fdca26"
             ],
             [
              1,
              "#f0f921"
             ]
            ],
            "type": "heatmap"
           }
          ],
          "heatmapgl": [
           {
            "colorbar": {
             "outlinewidth": 0,
             "ticks": ""
            },
            "colorscale": [
             [
              0,
              "#0d0887"
             ],
             [
              0.1111111111111111,
              "#46039f"
             ],
             [
              0.2222222222222222,
              "#7201a8"
             ],
             [
              0.3333333333333333,
              "#9c179e"
             ],
             [
              0.4444444444444444,
              "#bd3786"
             ],
             [
              0.5555555555555556,
              "#d8576b"
             ],
             [
              0.6666666666666666,
              "#ed7953"
             ],
             [
              0.7777777777777778,
              "#fb9f3a"
             ],
             [
              0.8888888888888888,
              "#fdca26"
             ],
             [
              1,
              "#f0f921"
             ]
            ],
            "type": "heatmapgl"
           }
          ],
          "histogram": [
           {
            "marker": {
             "pattern": {
              "fillmode": "overlay",
              "size": 10,
              "solidity": 0.2
             }
            },
            "type": "histogram"
           }
          ],
          "histogram2d": [
           {
            "colorbar": {
             "outlinewidth": 0,
             "ticks": ""
            },
            "colorscale": [
             [
              0,
              "#0d0887"
             ],
             [
              0.1111111111111111,
              "#46039f"
             ],
             [
              0.2222222222222222,
              "#7201a8"
             ],
             [
              0.3333333333333333,
              "#9c179e"
             ],
             [
              0.4444444444444444,
              "#bd3786"
             ],
             [
              0.5555555555555556,
              "#d8576b"
             ],
             [
              0.6666666666666666,
              "#ed7953"
             ],
             [
              0.7777777777777778,
              "#fb9f3a"
             ],
             [
              0.8888888888888888,
              "#fdca26"
             ],
             [
              1,
              "#f0f921"
             ]
            ],
            "type": "histogram2d"
           }
          ],
          "histogram2dcontour": [
           {
            "colorbar": {
             "outlinewidth": 0,
             "ticks": ""
            },
            "colorscale": [
             [
              0,
              "#0d0887"
             ],
             [
              0.1111111111111111,
              "#46039f"
             ],
             [
              0.2222222222222222,
              "#7201a8"
             ],
             [
              0.3333333333333333,
              "#9c179e"
             ],
             [
              0.4444444444444444,
              "#bd3786"
             ],
             [
              0.5555555555555556,
              "#d8576b"
             ],
             [
              0.6666666666666666,
              "#ed7953"
             ],
             [
              0.7777777777777778,
              "#fb9f3a"
             ],
             [
              0.8888888888888888,
              "#fdca26"
             ],
             [
              1,
              "#f0f921"
             ]
            ],
            "type": "histogram2dcontour"
           }
          ],
          "mesh3d": [
           {
            "colorbar": {
             "outlinewidth": 0,
             "ticks": ""
            },
            "type": "mesh3d"
           }
          ],
          "parcoords": [
           {
            "line": {
             "colorbar": {
              "outlinewidth": 0,
              "ticks": ""
             }
            },
            "type": "parcoords"
           }
          ],
          "pie": [
           {
            "automargin": true,
            "type": "pie"
           }
          ],
          "scatter": [
           {
            "fillpattern": {
             "fillmode": "overlay",
             "size": 10,
             "solidity": 0.2
            },
            "type": "scatter"
           }
          ],
          "scatter3d": [
           {
            "line": {
             "colorbar": {
              "outlinewidth": 0,
              "ticks": ""
             }
            },
            "marker": {
             "colorbar": {
              "outlinewidth": 0,
              "ticks": ""
             }
            },
            "type": "scatter3d"
           }
          ],
          "scattercarpet": [
           {
            "marker": {
             "colorbar": {
              "outlinewidth": 0,
              "ticks": ""
             }
            },
            "type": "scattercarpet"
           }
          ],
          "scattergeo": [
           {
            "marker": {
             "colorbar": {
              "outlinewidth": 0,
              "ticks": ""
             }
            },
            "type": "scattergeo"
           }
          ],
          "scattergl": [
           {
            "marker": {
             "colorbar": {
              "outlinewidth": 0,
              "ticks": ""
             }
            },
            "type": "scattergl"
           }
          ],
          "scattermapbox": [
           {
            "marker": {
             "colorbar": {
              "outlinewidth": 0,
              "ticks": ""
             }
            },
            "type": "scattermapbox"
           }
          ],
          "scatterpolar": [
           {
            "marker": {
             "colorbar": {
              "outlinewidth": 0,
              "ticks": ""
             }
            },
            "type": "scatterpolar"
           }
          ],
          "scatterpolargl": [
           {
            "marker": {
             "colorbar": {
              "outlinewidth": 0,
              "ticks": ""
             }
            },
            "type": "scatterpolargl"
           }
          ],
          "scatterternary": [
           {
            "marker": {
             "colorbar": {
              "outlinewidth": 0,
              "ticks": ""
             }
            },
            "type": "scatterternary"
           }
          ],
          "surface": [
           {
            "colorbar": {
             "outlinewidth": 0,
             "ticks": ""
            },
            "colorscale": [
             [
              0,
              "#0d0887"
             ],
             [
              0.1111111111111111,
              "#46039f"
             ],
             [
              0.2222222222222222,
              "#7201a8"
             ],
             [
              0.3333333333333333,
              "#9c179e"
             ],
             [
              0.4444444444444444,
              "#bd3786"
             ],
             [
              0.5555555555555556,
              "#d8576b"
             ],
             [
              0.6666666666666666,
              "#ed7953"
             ],
             [
              0.7777777777777778,
              "#fb9f3a"
             ],
             [
              0.8888888888888888,
              "#fdca26"
             ],
             [
              1,
              "#f0f921"
             ]
            ],
            "type": "surface"
           }
          ],
          "table": [
           {
            "cells": {
             "fill": {
              "color": "#EBF0F8"
             },
             "line": {
              "color": "white"
             }
            },
            "header": {
             "fill": {
              "color": "#C8D4E3"
             },
             "line": {
              "color": "white"
             }
            },
            "type": "table"
           }
          ]
         },
         "layout": {
          "annotationdefaults": {
           "arrowcolor": "#2a3f5f",
           "arrowhead": 0,
           "arrowwidth": 1
          },
          "autotypenumbers": "strict",
          "coloraxis": {
           "colorbar": {
            "outlinewidth": 0,
            "ticks": ""
           }
          },
          "colorscale": {
           "diverging": [
            [
             0,
             "#8e0152"
            ],
            [
             0.1,
             "#c51b7d"
            ],
            [
             0.2,
             "#de77ae"
            ],
            [
             0.3,
             "#f1b6da"
            ],
            [
             0.4,
             "#fde0ef"
            ],
            [
             0.5,
             "#f7f7f7"
            ],
            [
             0.6,
             "#e6f5d0"
            ],
            [
             0.7,
             "#b8e186"
            ],
            [
             0.8,
             "#7fbc41"
            ],
            [
             0.9,
             "#4d9221"
            ],
            [
             1,
             "#276419"
            ]
           ],
           "sequential": [
            [
             0,
             "#0d0887"
            ],
            [
             0.1111111111111111,
             "#46039f"
            ],
            [
             0.2222222222222222,
             "#7201a8"
            ],
            [
             0.3333333333333333,
             "#9c179e"
            ],
            [
             0.4444444444444444,
             "#bd3786"
            ],
            [
             0.5555555555555556,
             "#d8576b"
            ],
            [
             0.6666666666666666,
             "#ed7953"
            ],
            [
             0.7777777777777778,
             "#fb9f3a"
            ],
            [
             0.8888888888888888,
             "#fdca26"
            ],
            [
             1,
             "#f0f921"
            ]
           ],
           "sequentialminus": [
            [
             0,
             "#0d0887"
            ],
            [
             0.1111111111111111,
             "#46039f"
            ],
            [
             0.2222222222222222,
             "#7201a8"
            ],
            [
             0.3333333333333333,
             "#9c179e"
            ],
            [
             0.4444444444444444,
             "#bd3786"
            ],
            [
             0.5555555555555556,
             "#d8576b"
            ],
            [
             0.6666666666666666,
             "#ed7953"
            ],
            [
             0.7777777777777778,
             "#fb9f3a"
            ],
            [
             0.8888888888888888,
             "#fdca26"
            ],
            [
             1,
             "#f0f921"
            ]
           ]
          },
          "colorway": [
           "#636efa",
           "#EF553B",
           "#00cc96",
           "#ab63fa",
           "#FFA15A",
           "#19d3f3",
           "#FF6692",
           "#B6E880",
           "#FF97FF",
           "#FECB52"
          ],
          "font": {
           "color": "#2a3f5f"
          },
          "geo": {
           "bgcolor": "white",
           "lakecolor": "white",
           "landcolor": "#E5ECF6",
           "showlakes": true,
           "showland": true,
           "subunitcolor": "white"
          },
          "hoverlabel": {
           "align": "left"
          },
          "hovermode": "closest",
          "mapbox": {
           "style": "light"
          },
          "paper_bgcolor": "white",
          "plot_bgcolor": "#E5ECF6",
          "polar": {
           "angularaxis": {
            "gridcolor": "white",
            "linecolor": "white",
            "ticks": ""
           },
           "bgcolor": "#E5ECF6",
           "radialaxis": {
            "gridcolor": "white",
            "linecolor": "white",
            "ticks": ""
           }
          },
          "scene": {
           "xaxis": {
            "backgroundcolor": "#E5ECF6",
            "gridcolor": "white",
            "gridwidth": 2,
            "linecolor": "white",
            "showbackground": true,
            "ticks": "",
            "zerolinecolor": "white"
           },
           "yaxis": {
            "backgroundcolor": "#E5ECF6",
            "gridcolor": "white",
            "gridwidth": 2,
            "linecolor": "white",
            "showbackground": true,
            "ticks": "",
            "zerolinecolor": "white"
           },
           "zaxis": {
            "backgroundcolor": "#E5ECF6",
            "gridcolor": "white",
            "gridwidth": 2,
            "linecolor": "white",
            "showbackground": true,
            "ticks": "",
            "zerolinecolor": "white"
           }
          },
          "shapedefaults": {
           "line": {
            "color": "#2a3f5f"
           }
          },
          "ternary": {
           "aaxis": {
            "gridcolor": "white",
            "linecolor": "white",
            "ticks": ""
           },
           "baxis": {
            "gridcolor": "white",
            "linecolor": "white",
            "ticks": ""
           },
           "bgcolor": "#E5ECF6",
           "caxis": {
            "gridcolor": "white",
            "linecolor": "white",
            "ticks": ""
           }
          },
          "title": {
           "x": 0.05
          },
          "xaxis": {
           "automargin": true,
           "gridcolor": "white",
           "linecolor": "white",
           "ticks": "",
           "title": {
            "standoff": 15
           },
           "zerolinecolor": "white",
           "zerolinewidth": 2
          },
          "yaxis": {
           "automargin": true,
           "gridcolor": "white",
           "linecolor": "white",
           "ticks": "",
           "title": {
            "standoff": 15
           },
           "zerolinecolor": "white",
           "zerolinewidth": 2
          }
         }
        },
        "xaxis": {
         "rangeslider": {
          "visible": false
         }
        }
       }
      },
      "text/html": [
       "<div>                            <div id=\"c723f5f7-0d8e-472c-995f-b407b0027ffc\" class=\"plotly-graph-div\" style=\"height:525px; width:100%;\"></div>            <script type=\"text/javascript\">                require([\"plotly\"], function(Plotly) {                    window.PLOTLYENV=window.PLOTLYENV || {};                                    if (document.getElementById(\"c723f5f7-0d8e-472c-995f-b407b0027ffc\")) {                    Plotly.newPlot(                        \"c723f5f7-0d8e-472c-995f-b407b0027ffc\",                        [{\"close\":[53852,54187,54648,55195,54782,54818,55175,56258,56139,56345,57023,56852,56697,56700,56232,56888,56882,55837,55588,55750,56263,55935,55781,55212,55498,54978,54710,54431,55507,56209,56223,56878,56768,56321,56851,56812,57482,56799,57439,57564,57880,57762,57327,56860,56937,57065,56665,57124,57019,56649,56521,56479,56675,56444,56328,55661,56163,56937,57356,57103,57301,56901,56696,56920,57146,57195,56649,56354,56436,56641,56825,56683,56875,57301,57361,57528,59324,59780,59840,59882,59714,59603,59800,60284,60243,60728,61562,61030,61010,61123,61206,61020,61001,61302,61157,60961,60899,60436,60721,60847],\"high\":[54059,54403,54712,55376,55323,54943,55440,56296,56393,56459,57095,57107,57097,57340,56853,56970,57164,56912,56449,55877,56266,56417,56124,55781,55677,55715,55037,54862,55563,56229,56373,56951,57167,57047,56972,56998,57640,57609,57561,57870,57987,58100,58020,57597,57061,57238,57170,57206,57362,57019,57043,56761,56803,57005,56765,56332,56165,57044,57598,57702,57612,57500,57104,57154,57397,57446,57226,56652,56572,56730,56838,57008,57002,57336,57562,57528,59678,60022,60344,60097,60032,59891,59890,60352,60381,60785,61722,61634,61165,61392,61625,61208,61155,61385,61449,61206,60961,60899,60792,61045],\"low\":[53514,53839,54067,54321,54693,54510,54810,55114,55785,55983,56113,56357,56583,56599,56034,55503,56477,55797,55482,55129,55623,55566,55590,55177,54974,54974,54268,54408,54388,55400,55722,56223,56455,55924,56311,56291,56532,56708,56601,57285,57457,57621,56775,56626,56678,56789,56460,56338,56882,56451,56268,56280,55806,56312,56157,55025,55332,56012,56933,57025,57033,56710,56404,56260,56846,57129,56275,56056,56058,56282,56236,56563,56480,56723,57057,57196,57394,59318,59237,59448,59672,59492,59419,59742,59962,60117,60651,60534,60699,61009,60895,60694,60762,60872,61062,60861,60494,60404,60202,60639],\"open\":[53637,53850,54185,54647,55197,54784,54821,55176,56259,56139,56345,57023,56852,56697,56700,56230,56883,56882,55836,55588,55749,56262,55937,55780,55211,55500,54979,54709,54430,55507,56209,56223,56881,56768,56321,56852,56812,57482,56795,57440,57563,57878,57762,57327,56861,56937,57065,56665,57117,57019,56645,56513,56478,56674,56443,56328,55661,56165,56937,57355,57103,57301,56903,56688,56921,57136,57195,56652,56357,56437,56637,56830,56685,56875,57305,57360,57528,59324,59781,59838,59882,59713,59604,59800,60284,60246,60727,61562,61031,61010,61127,61206,61020,61001,61302,61157,60961,60899,60436,60721],\"x\":[8700,8701,8702,8703,8704,8705,8706,8707,8708,8709,8710,8711,8712,8713,8714,8715,8716,8717,8718,8719,8720,8721,8722,8723,8724,8725,8726,8727,8728,8729,8730,8731,8732,8733,8734,8735,8736,8737,8738,8739,8740,8741,8742,8743,8744,8745,8746,8747,8748,8749,8750,8751,8752,8753,8754,8755,8756,8757,8758,8759,8760,8761,8762,8763,8764,8765,8766,8767,8768,8769,8770,8771,8772,8773,8774,8775,8776,8777,8778,8779,8780,8781,8782,8783,8784,8785,8786,8787,8788,8789,8790,8791,8792,8793,8794,8795,8796,8797,8798,8799],\"type\":\"candlestick\"},{\"marker\":{\"color\":\"MediumPurple\",\"size\":5},\"mode\":\"markers\",\"name\":\"pivot\",\"x\":[8700,8701,8702,8703,8704,8705,8706,8707,8708,8709,8710,8711,8712,8713,8714,8715,8716,8717,8718,8719,8720,8721,8722,8723,8724,8725,8726,8727,8728,8729,8730,8731,8732,8733,8734,8735,8736,8737,8738,8739,8740,8741,8742,8743,8744,8745,8746,8747,8748,8749,8750,8751,8752,8753,8754,8755,8756,8757,8758,8759,8760,8761,8762,8763,8764,8765,8766,8767,8768,8769,8770,8771,8772,8773,8774,8775,8776,8777,8778,8779,8780,8781,8782,8783,8784,8785,8786,8787,8788,8789,8790,8791,8792,8793,8794,8795,8796,8797,8798,8799],\"y\":[null,null,null,null,null,null,null,null,null,null,null,null,null,57340.001,null,null,null,null,null,null,null,null,null,null,null,null,54267.999,null,null,null,null,null,null,null,null,null,null,null,null,null,null,58100.001,null,null,null,null,null,null,null,null,null,null,null,null,null,55024.999,null,null,null,57702.001,null,null,null,null,null,null,null,null,null,null,null,null,null,null,null,null,null,null,null,null,null,null,null,null,null,null,61722.001,null,null,null,null,null,null,null,null,null,null,null,null,null],\"type\":\"scatter\"}],                        {\"template\":{\"data\":{\"histogram2dcontour\":[{\"type\":\"histogram2dcontour\",\"colorbar\":{\"outlinewidth\":0,\"ticks\":\"\"},\"colorscale\":[[0.0,\"#0d0887\"],[0.1111111111111111,\"#46039f\"],[0.2222222222222222,\"#7201a8\"],[0.3333333333333333,\"#9c179e\"],[0.4444444444444444,\"#bd3786\"],[0.5555555555555556,\"#d8576b\"],[0.6666666666666666,\"#ed7953\"],[0.7777777777777778,\"#fb9f3a\"],[0.8888888888888888,\"#fdca26\"],[1.0,\"#f0f921\"]]}],\"choropleth\":[{\"type\":\"choropleth\",\"colorbar\":{\"outlinewidth\":0,\"ticks\":\"\"}}],\"histogram2d\":[{\"type\":\"histogram2d\",\"colorbar\":{\"outlinewidth\":0,\"ticks\":\"\"},\"colorscale\":[[0.0,\"#0d0887\"],[0.1111111111111111,\"#46039f\"],[0.2222222222222222,\"#7201a8\"],[0.3333333333333333,\"#9c179e\"],[0.4444444444444444,\"#bd3786\"],[0.5555555555555556,\"#d8576b\"],[0.6666666666666666,\"#ed7953\"],[0.7777777777777778,\"#fb9f3a\"],[0.8888888888888888,\"#fdca26\"],[1.0,\"#f0f921\"]]}],\"heatmap\":[{\"type\":\"heatmap\",\"colorbar\":{\"outlinewidth\":0,\"ticks\":\"\"},\"colorscale\":[[0.0,\"#0d0887\"],[0.1111111111111111,\"#46039f\"],[0.2222222222222222,\"#7201a8\"],[0.3333333333333333,\"#9c179e\"],[0.4444444444444444,\"#bd3786\"],[0.5555555555555556,\"#d8576b\"],[0.6666666666666666,\"#ed7953\"],[0.7777777777777778,\"#fb9f3a\"],[0.8888888888888888,\"#fdca26\"],[1.0,\"#f0f921\"]]}],\"heatmapgl\":[{\"type\":\"heatmapgl\",\"colorbar\":{\"outlinewidth\":0,\"ticks\":\"\"},\"colorscale\":[[0.0,\"#0d0887\"],[0.1111111111111111,\"#46039f\"],[0.2222222222222222,\"#7201a8\"],[0.3333333333333333,\"#9c179e\"],[0.4444444444444444,\"#bd3786\"],[0.5555555555555556,\"#d8576b\"],[0.6666666666666666,\"#ed7953\"],[0.7777777777777778,\"#fb9f3a\"],[0.8888888888888888,\"#fdca26\"],[1.0,\"#f0f921\"]]}],\"contourcarpet\":[{\"type\":\"contourcarpet\",\"colorbar\":{\"outlinewidth\":0,\"ticks\":\"\"}}],\"contour\":[{\"type\":\"contour\",\"colorbar\":{\"outlinewidth\":0,\"ticks\":\"\"},\"colorscale\":[[0.0,\"#0d0887\"],[0.1111111111111111,\"#46039f\"],[0.2222222222222222,\"#7201a8\"],[0.3333333333333333,\"#9c179e\"],[0.4444444444444444,\"#bd3786\"],[0.5555555555555556,\"#d8576b\"],[0.6666666666666666,\"#ed7953\"],[0.7777777777777778,\"#fb9f3a\"],[0.8888888888888888,\"#fdca26\"],[1.0,\"#f0f921\"]]}],\"surface\":[{\"type\":\"surface\",\"colorbar\":{\"outlinewidth\":0,\"ticks\":\"\"},\"colorscale\":[[0.0,\"#0d0887\"],[0.1111111111111111,\"#46039f\"],[0.2222222222222222,\"#7201a8\"],[0.3333333333333333,\"#9c179e\"],[0.4444444444444444,\"#bd3786\"],[0.5555555555555556,\"#d8576b\"],[0.6666666666666666,\"#ed7953\"],[0.7777777777777778,\"#fb9f3a\"],[0.8888888888888888,\"#fdca26\"],[1.0,\"#f0f921\"]]}],\"mesh3d\":[{\"type\":\"mesh3d\",\"colorbar\":{\"outlinewidth\":0,\"ticks\":\"\"}}],\"scatter\":[{\"fillpattern\":{\"fillmode\":\"overlay\",\"size\":10,\"solidity\":0.2},\"type\":\"scatter\"}],\"parcoords\":[{\"type\":\"parcoords\",\"line\":{\"colorbar\":{\"outlinewidth\":0,\"ticks\":\"\"}}}],\"scatterpolargl\":[{\"type\":\"scatterpolargl\",\"marker\":{\"colorbar\":{\"outlinewidth\":0,\"ticks\":\"\"}}}],\"bar\":[{\"error_x\":{\"color\":\"#2a3f5f\"},\"error_y\":{\"color\":\"#2a3f5f\"},\"marker\":{\"line\":{\"color\":\"#E5ECF6\",\"width\":0.5},\"pattern\":{\"fillmode\":\"overlay\",\"size\":10,\"solidity\":0.2}},\"type\":\"bar\"}],\"scattergeo\":[{\"type\":\"scattergeo\",\"marker\":{\"colorbar\":{\"outlinewidth\":0,\"ticks\":\"\"}}}],\"scatterpolar\":[{\"type\":\"scatterpolar\",\"marker\":{\"colorbar\":{\"outlinewidth\":0,\"ticks\":\"\"}}}],\"histogram\":[{\"marker\":{\"pattern\":{\"fillmode\":\"overlay\",\"size\":10,\"solidity\":0.2}},\"type\":\"histogram\"}],\"scattergl\":[{\"type\":\"scattergl\",\"marker\":{\"colorbar\":{\"outlinewidth\":0,\"ticks\":\"\"}}}],\"scatter3d\":[{\"type\":\"scatter3d\",\"line\":{\"colorbar\":{\"outlinewidth\":0,\"ticks\":\"\"}},\"marker\":{\"colorbar\":{\"outlinewidth\":0,\"ticks\":\"\"}}}],\"scattermapbox\":[{\"type\":\"scattermapbox\",\"marker\":{\"colorbar\":{\"outlinewidth\":0,\"ticks\":\"\"}}}],\"scatterternary\":[{\"type\":\"scatterternary\",\"marker\":{\"colorbar\":{\"outlinewidth\":0,\"ticks\":\"\"}}}],\"scattercarpet\":[{\"type\":\"scattercarpet\",\"marker\":{\"colorbar\":{\"outlinewidth\":0,\"ticks\":\"\"}}}],\"carpet\":[{\"aaxis\":{\"endlinecolor\":\"#2a3f5f\",\"gridcolor\":\"white\",\"linecolor\":\"white\",\"minorgridcolor\":\"white\",\"startlinecolor\":\"#2a3f5f\"},\"baxis\":{\"endlinecolor\":\"#2a3f5f\",\"gridcolor\":\"white\",\"linecolor\":\"white\",\"minorgridcolor\":\"white\",\"startlinecolor\":\"#2a3f5f\"},\"type\":\"carpet\"}],\"table\":[{\"cells\":{\"fill\":{\"color\":\"#EBF0F8\"},\"line\":{\"color\":\"white\"}},\"header\":{\"fill\":{\"color\":\"#C8D4E3\"},\"line\":{\"color\":\"white\"}},\"type\":\"table\"}],\"barpolar\":[{\"marker\":{\"line\":{\"color\":\"#E5ECF6\",\"width\":0.5},\"pattern\":{\"fillmode\":\"overlay\",\"size\":10,\"solidity\":0.2}},\"type\":\"barpolar\"}],\"pie\":[{\"automargin\":true,\"type\":\"pie\"}]},\"layout\":{\"autotypenumbers\":\"strict\",\"colorway\":[\"#636efa\",\"#EF553B\",\"#00cc96\",\"#ab63fa\",\"#FFA15A\",\"#19d3f3\",\"#FF6692\",\"#B6E880\",\"#FF97FF\",\"#FECB52\"],\"font\":{\"color\":\"#2a3f5f\"},\"hovermode\":\"closest\",\"hoverlabel\":{\"align\":\"left\"},\"paper_bgcolor\":\"white\",\"plot_bgcolor\":\"#E5ECF6\",\"polar\":{\"bgcolor\":\"#E5ECF6\",\"angularaxis\":{\"gridcolor\":\"white\",\"linecolor\":\"white\",\"ticks\":\"\"},\"radialaxis\":{\"gridcolor\":\"white\",\"linecolor\":\"white\",\"ticks\":\"\"}},\"ternary\":{\"bgcolor\":\"#E5ECF6\",\"aaxis\":{\"gridcolor\":\"white\",\"linecolor\":\"white\",\"ticks\":\"\"},\"baxis\":{\"gridcolor\":\"white\",\"linecolor\":\"white\",\"ticks\":\"\"},\"caxis\":{\"gridcolor\":\"white\",\"linecolor\":\"white\",\"ticks\":\"\"}},\"coloraxis\":{\"colorbar\":{\"outlinewidth\":0,\"ticks\":\"\"}},\"colorscale\":{\"sequential\":[[0.0,\"#0d0887\"],[0.1111111111111111,\"#46039f\"],[0.2222222222222222,\"#7201a8\"],[0.3333333333333333,\"#9c179e\"],[0.4444444444444444,\"#bd3786\"],[0.5555555555555556,\"#d8576b\"],[0.6666666666666666,\"#ed7953\"],[0.7777777777777778,\"#fb9f3a\"],[0.8888888888888888,\"#fdca26\"],[1.0,\"#f0f921\"]],\"sequentialminus\":[[0.0,\"#0d0887\"],[0.1111111111111111,\"#46039f\"],[0.2222222222222222,\"#7201a8\"],[0.3333333333333333,\"#9c179e\"],[0.4444444444444444,\"#bd3786\"],[0.5555555555555556,\"#d8576b\"],[0.6666666666666666,\"#ed7953\"],[0.7777777777777778,\"#fb9f3a\"],[0.8888888888888888,\"#fdca26\"],[1.0,\"#f0f921\"]],\"diverging\":[[0,\"#8e0152\"],[0.1,\"#c51b7d\"],[0.2,\"#de77ae\"],[0.3,\"#f1b6da\"],[0.4,\"#fde0ef\"],[0.5,\"#f7f7f7\"],[0.6,\"#e6f5d0\"],[0.7,\"#b8e186\"],[0.8,\"#7fbc41\"],[0.9,\"#4d9221\"],[1,\"#276419\"]]},\"xaxis\":{\"gridcolor\":\"white\",\"linecolor\":\"white\",\"ticks\":\"\",\"title\":{\"standoff\":15},\"zerolinecolor\":\"white\",\"automargin\":true,\"zerolinewidth\":2},\"yaxis\":{\"gridcolor\":\"white\",\"linecolor\":\"white\",\"ticks\":\"\",\"title\":{\"standoff\":15},\"zerolinecolor\":\"white\",\"automargin\":true,\"zerolinewidth\":2},\"scene\":{\"xaxis\":{\"backgroundcolor\":\"#E5ECF6\",\"gridcolor\":\"white\",\"linecolor\":\"white\",\"showbackground\":true,\"ticks\":\"\",\"zerolinecolor\":\"white\",\"gridwidth\":2},\"yaxis\":{\"backgroundcolor\":\"#E5ECF6\",\"gridcolor\":\"white\",\"linecolor\":\"white\",\"showbackground\":true,\"ticks\":\"\",\"zerolinecolor\":\"white\",\"gridwidth\":2},\"zaxis\":{\"backgroundcolor\":\"#E5ECF6\",\"gridcolor\":\"white\",\"linecolor\":\"white\",\"showbackground\":true,\"ticks\":\"\",\"zerolinecolor\":\"white\",\"gridwidth\":2}},\"shapedefaults\":{\"line\":{\"color\":\"#2a3f5f\"}},\"annotationdefaults\":{\"arrowcolor\":\"#2a3f5f\",\"arrowhead\":0,\"arrowwidth\":1},\"geo\":{\"bgcolor\":\"white\",\"landcolor\":\"#E5ECF6\",\"subunitcolor\":\"white\",\"showland\":true,\"showlakes\":true,\"lakecolor\":\"white\"},\"title\":{\"x\":0.05},\"mapbox\":{\"style\":\"light\"}}},\"xaxis\":{\"rangeslider\":{\"visible\":false}}},                        {\"responsive\": true}                    ).then(function(){\n",
       "                            \n",
       "var gd = document.getElementById('c723f5f7-0d8e-472c-995f-b407b0027ffc');\n",
       "var x = new MutationObserver(function (mutations, observer) {{\n",
       "        var display = window.getComputedStyle(gd).display;\n",
       "        if (!display || display === 'none') {{\n",
       "            console.log([gd, 'removed!']);\n",
       "            Plotly.purge(gd);\n",
       "            observer.disconnect();\n",
       "        }}\n",
       "}});\n",
       "\n",
       "// Listen for the removal of the full notebook cells\n",
       "var notebookContainer = gd.closest('#notebook-container');\n",
       "if (notebookContainer) {{\n",
       "    x.observe(notebookContainer, {childList: true});\n",
       "}}\n",
       "\n",
       "// Listen for the clearing of the current output cell\n",
       "var outputEl = gd.closest('.output');\n",
       "if (outputEl) {{\n",
       "    x.observe(outputEl, {childList: true});\n",
       "}}\n",
       "\n",
       "                        })                };                });            </script>        </div>"
      ]
     },
     "metadata": {},
     "output_type": "display_data"
    }
   ],
   "source": [
    "dfpl = df[8700:8800]\n",
    "fig = go.Figure(data=[go.Candlestick(x=dfpl.index,\n",
    "                open=dfpl['open'],\n",
    "                high=dfpl['high'],\n",
    "                low=dfpl['low'],\n",
    "                close=dfpl['close'])])\n",
    "\n",
    "fig.add_scatter(x=dfpl.index, y=dfpl['pointpos'], mode=\"markers\",\n",
    "                marker=dict(size=5, color=\"MediumPurple\"),\n",
    "                name=\"pivot\")\n",
    "fig.update_layout(xaxis_rangeslider_visible=False)\n",
    "fig.show()"
   ]
  },
  {
   "cell_type": "code",
   "execution_count": 13,
   "metadata": {},
   "outputs": [],
   "source": [
    "def detect_structure(candle, backcandles, window):\n",
    "    \"\"\"\n",
    "    Attention! window should always be greater than the pivot window! to avoid look ahead bias\n",
    "    \"\"\"\n",
    "    if (candle <= (backcandles+window)) or (candle+window+1 >= len(df)):\n",
    "        return 0\n",
    "    \n",
    "    localdf = df.iloc[candle-backcandles-window:candle-window] #window must be greater than pivot window to avoid look ahead bias\n",
    "    highs = localdf[localdf['isPivot'] == 1].high.tail(3).values\n",
    "    lows = localdf[localdf['isPivot'] == 2].low.tail(3).values\n",
    "    levelbreak = 0\n",
    "    zone_width = 500\n",
    "    if len(lows)==3:\n",
    "        support_condition = True\n",
    "        mean_low = lows.mean()\n",
    "        for low in lows:\n",
    "            if abs(low-mean_low)>zone_width:\n",
    "                support_condition = False\n",
    "                break\n",
    "        if support_condition and (mean_low - df.loc[candle].close)>zone_width*2:\n",
    "            levelbreak = 1\n",
    "\n",
    "    if len(highs)==3:\n",
    "        resistance_condition = True\n",
    "        mean_high = highs.mean()\n",
    "        for high in highs:\n",
    "            if abs(high-mean_high)>zone_width:\n",
    "                resistance_condition = False\n",
    "                break\n",
    "        if resistance_condition and (df.loc[candle].close-mean_high)>zone_width*2:\n",
    "            levelbreak = 2\n",
    "    return levelbreak"
   ]
  },
  {
   "cell_type": "code",
   "execution_count": 14,
   "metadata": {},
   "outputs": [],
   "source": [
    "#df['pattern_detected'] = df.index.map(lambda x: detect_structure(x, backcandles=40, window=15))\n",
    "df['pattern_detected'] = df.apply(lambda row: detect_structure(row.name, backcandles=60, window=11), axis=1)"
   ]
  },
  {
   "cell_type": "code",
   "execution_count": 15,
   "metadata": {},
   "outputs": [
    {
     "data": {
      "text/html": [
       "<div>\n",
       "<style scoped>\n",
       "    .dataframe tbody tr th:only-of-type {\n",
       "        vertical-align: middle;\n",
       "    }\n",
       "\n",
       "    .dataframe tbody tr th {\n",
       "        vertical-align: top;\n",
       "    }\n",
       "\n",
       "    .dataframe thead th {\n",
       "        text-align: right;\n",
       "    }\n",
       "</style>\n",
       "<table border=\"1\" class=\"dataframe\">\n",
       "  <thead>\n",
       "    <tr style=\"text-align: right;\">\n",
       "      <th></th>\n",
       "      <th>Local time</th>\n",
       "      <th>open</th>\n",
       "      <th>high</th>\n",
       "      <th>low</th>\n",
       "      <th>close</th>\n",
       "      <th>volume</th>\n",
       "      <th>EMA</th>\n",
       "      <th>EMASignal</th>\n",
       "      <th>isPivot</th>\n",
       "      <th>pointpos</th>\n",
       "      <th>pattern_detected</th>\n",
       "    </tr>\n",
       "  </thead>\n",
       "  <tbody>\n",
       "    <tr>\n",
       "      <th>1135</th>\n",
       "      <td>09.03.2020 00:00:00.000 GMT-0400</td>\n",
       "      <td>8016</td>\n",
       "      <td>8017</td>\n",
       "      <td>7759</td>\n",
       "      <td>7803</td>\n",
       "      <td>52.0508</td>\n",
       "      <td>8833.012312</td>\n",
       "      <td>0</td>\n",
       "      <td>0</td>\n",
       "      <td>NaN</td>\n",
       "      <td>1</td>\n",
       "    </tr>\n",
       "    <tr>\n",
       "      <th>1137</th>\n",
       "      <td>09.03.2020 02:00:00.000 GMT-0400</td>\n",
       "      <td>7881</td>\n",
       "      <td>7949</td>\n",
       "      <td>7802</td>\n",
       "      <td>7832</td>\n",
       "      <td>56.0575</td>\n",
       "      <td>8807.311449</td>\n",
       "      <td>0</td>\n",
       "      <td>0</td>\n",
       "      <td>NaN</td>\n",
       "      <td>1</td>\n",
       "    </tr>\n",
       "    <tr>\n",
       "      <th>1142</th>\n",
       "      <td>09.03.2020 07:00:00.000 GMT-0400</td>\n",
       "      <td>7838</td>\n",
       "      <td>7838</td>\n",
       "      <td>7713</td>\n",
       "      <td>7753</td>\n",
       "      <td>29.1660</td>\n",
       "      <td>8744.915660</td>\n",
       "      <td>0</td>\n",
       "      <td>0</td>\n",
       "      <td>NaN</td>\n",
       "      <td>1</td>\n",
       "    </tr>\n",
       "    <tr>\n",
       "      <th>1143</th>\n",
       "      <td>09.03.2020 08:00:00.000 GMT-0400</td>\n",
       "      <td>7755</td>\n",
       "      <td>7864</td>\n",
       "      <td>7730</td>\n",
       "      <td>7827</td>\n",
       "      <td>27.8051</td>\n",
       "      <td>8732.757837</td>\n",
       "      <td>1</td>\n",
       "      <td>0</td>\n",
       "      <td>NaN</td>\n",
       "      <td>1</td>\n",
       "    </tr>\n",
       "    <tr>\n",
       "      <th>1144</th>\n",
       "      <td>09.03.2020 09:00:00.000 GMT-0400</td>\n",
       "      <td>7827</td>\n",
       "      <td>7838</td>\n",
       "      <td>7650</td>\n",
       "      <td>7743</td>\n",
       "      <td>25.0234</td>\n",
       "      <td>8719.648461</td>\n",
       "      <td>1</td>\n",
       "      <td>0</td>\n",
       "      <td>NaN</td>\n",
       "      <td>1</td>\n",
       "    </tr>\n",
       "    <tr>\n",
       "      <th>1145</th>\n",
       "      <td>09.03.2020 10:00:00.000 GMT-0400</td>\n",
       "      <td>7742</td>\n",
       "      <td>7783</td>\n",
       "      <td>7646</td>\n",
       "      <td>7673</td>\n",
       "      <td>22.9305</td>\n",
       "      <td>8705.785568</td>\n",
       "      <td>1</td>\n",
       "      <td>0</td>\n",
       "      <td>NaN</td>\n",
       "      <td>1</td>\n",
       "    </tr>\n",
       "    <tr>\n",
       "      <th>2039</th>\n",
       "      <td>29.04.2020 16:00:00.000 GMT-0400</td>\n",
       "      <td>8678</td>\n",
       "      <td>8880</td>\n",
       "      <td>8660</td>\n",
       "      <td>8878</td>\n",
       "      <td>64.3586</td>\n",
       "      <td>7577.810046</td>\n",
       "      <td>2</td>\n",
       "      <td>0</td>\n",
       "      <td>NaN</td>\n",
       "      <td>2</td>\n",
       "    </tr>\n",
       "    <tr>\n",
       "      <th>2040</th>\n",
       "      <td>29.04.2020 17:00:00.000 GMT-0400</td>\n",
       "      <td>8878</td>\n",
       "      <td>8890</td>\n",
       "      <td>8722</td>\n",
       "      <td>8813</td>\n",
       "      <td>64.5599</td>\n",
       "      <td>7594.170177</td>\n",
       "      <td>2</td>\n",
       "      <td>0</td>\n",
       "      <td>NaN</td>\n",
       "      <td>2</td>\n",
       "    </tr>\n",
       "    <tr>\n",
       "      <th>2042</th>\n",
       "      <td>29.04.2020 19:00:00.000 GMT-0400</td>\n",
       "      <td>8709</td>\n",
       "      <td>8744</td>\n",
       "      <td>8662</td>\n",
       "      <td>8734</td>\n",
       "      <td>53.9742</td>\n",
       "      <td>7623.837644</td>\n",
       "      <td>2</td>\n",
       "      <td>0</td>\n",
       "      <td>NaN</td>\n",
       "      <td>2</td>\n",
       "    </tr>\n",
       "    <tr>\n",
       "      <th>2043</th>\n",
       "      <td>29.04.2020 20:00:00.000 GMT-0400</td>\n",
       "      <td>8734</td>\n",
       "      <td>8770</td>\n",
       "      <td>8666</td>\n",
       "      <td>8765</td>\n",
       "      <td>59.4340</td>\n",
       "      <td>7638.952377</td>\n",
       "      <td>2</td>\n",
       "      <td>0</td>\n",
       "      <td>NaN</td>\n",
       "      <td>2</td>\n",
       "    </tr>\n",
       "    <tr>\n",
       "      <th>6230</th>\n",
       "      <td>26.11.2020 03:00:00.000 GMT-0500</td>\n",
       "      <td>17583</td>\n",
       "      <td>17583</td>\n",
       "      <td>16312</td>\n",
       "      <td>16819</td>\n",
       "      <td>0.2073</td>\n",
       "      <td>18432.371810</td>\n",
       "      <td>0</td>\n",
       "      <td>0</td>\n",
       "      <td>NaN</td>\n",
       "      <td>1</td>\n",
       "    </tr>\n",
       "    <tr>\n",
       "      <th>6231</th>\n",
       "      <td>26.11.2020 04:00:00.000 GMT-0500</td>\n",
       "      <td>16819</td>\n",
       "      <td>17106</td>\n",
       "      <td>16661</td>\n",
       "      <td>17037</td>\n",
       "      <td>0.1490</td>\n",
       "      <td>18413.890064</td>\n",
       "      <td>0</td>\n",
       "      <td>0</td>\n",
       "      <td>NaN</td>\n",
       "      <td>1</td>\n",
       "    </tr>\n",
       "    <tr>\n",
       "      <th>6233</th>\n",
       "      <td>26.11.2020 06:00:00.000 GMT-0500</td>\n",
       "      <td>17277</td>\n",
       "      <td>17408</td>\n",
       "      <td>16944</td>\n",
       "      <td>17083</td>\n",
       "      <td>0.1221</td>\n",
       "      <td>18381.403680</td>\n",
       "      <td>0</td>\n",
       "      <td>0</td>\n",
       "      <td>NaN</td>\n",
       "      <td>1</td>\n",
       "    </tr>\n",
       "    <tr>\n",
       "      <th>6235</th>\n",
       "      <td>26.11.2020 08:00:00.000 GMT-0500</td>\n",
       "      <td>17369</td>\n",
       "      <td>17397</td>\n",
       "      <td>17044</td>\n",
       "      <td>17046</td>\n",
       "      <td>0.1075</td>\n",
       "      <td>18350.484501</td>\n",
       "      <td>0</td>\n",
       "      <td>0</td>\n",
       "      <td>NaN</td>\n",
       "      <td>1</td>\n",
       "    </tr>\n",
       "    <tr>\n",
       "      <th>6236</th>\n",
       "      <td>26.11.2020 09:00:00.000 GMT-0500</td>\n",
       "      <td>17046</td>\n",
       "      <td>17109</td>\n",
       "      <td>16737</td>\n",
       "      <td>16742</td>\n",
       "      <td>0.1301</td>\n",
       "      <td>18329.180070</td>\n",
       "      <td>0</td>\n",
       "      <td>0</td>\n",
       "      <td>NaN</td>\n",
       "      <td>1</td>\n",
       "    </tr>\n",
       "    <tr>\n",
       "      <th>6237</th>\n",
       "      <td>26.11.2020 10:00:00.000 GMT-0500</td>\n",
       "      <td>16739</td>\n",
       "      <td>17222</td>\n",
       "      <td>16711</td>\n",
       "      <td>16885</td>\n",
       "      <td>0.1214</td>\n",
       "      <td>18310.051858</td>\n",
       "      <td>0</td>\n",
       "      <td>0</td>\n",
       "      <td>NaN</td>\n",
       "      <td>1</td>\n",
       "    </tr>\n",
       "    <tr>\n",
       "      <th>6716</th>\n",
       "      <td>16.12.2020 09:00:00.000 GMT-0500</td>\n",
       "      <td>20328</td>\n",
       "      <td>20795</td>\n",
       "      <td>20208</td>\n",
       "      <td>20694</td>\n",
       "      <td>0.2153</td>\n",
       "      <td>19058.462492</td>\n",
       "      <td>2</td>\n",
       "      <td>0</td>\n",
       "      <td>NaN</td>\n",
       "      <td>2</td>\n",
       "    </tr>\n",
       "    <tr>\n",
       "      <th>6717</th>\n",
       "      <td>16.12.2020 10:00:00.000 GMT-0500</td>\n",
       "      <td>20695</td>\n",
       "      <td>20741</td>\n",
       "      <td>20553</td>\n",
       "      <td>20663</td>\n",
       "      <td>0.1667</td>\n",
       "      <td>19079.714645</td>\n",
       "      <td>2</td>\n",
       "      <td>0</td>\n",
       "      <td>NaN</td>\n",
       "      <td>2</td>\n",
       "    </tr>\n",
       "    <tr>\n",
       "      <th>6718</th>\n",
       "      <td>16.12.2020 11:00:00.000 GMT-0500</td>\n",
       "      <td>20664</td>\n",
       "      <td>20870</td>\n",
       "      <td>20651</td>\n",
       "      <td>20868</td>\n",
       "      <td>0.1586</td>\n",
       "      <td>19103.400544</td>\n",
       "      <td>2</td>\n",
       "      <td>0</td>\n",
       "      <td>NaN</td>\n",
       "      <td>2</td>\n",
       "    </tr>\n",
       "    <tr>\n",
       "      <th>6719</th>\n",
       "      <td>16.12.2020 12:00:00.000 GMT-0500</td>\n",
       "      <td>20868</td>\n",
       "      <td>20870</td>\n",
       "      <td>20594</td>\n",
       "      <td>20643</td>\n",
       "      <td>0.1315</td>\n",
       "      <td>19123.792589</td>\n",
       "      <td>2</td>\n",
       "      <td>0</td>\n",
       "      <td>NaN</td>\n",
       "      <td>2</td>\n",
       "    </tr>\n",
       "    <tr>\n",
       "      <th>6720</th>\n",
       "      <td>16.12.2020 13:00:00.000 GMT-0500</td>\n",
       "      <td>20642</td>\n",
       "      <td>20745</td>\n",
       "      <td>20555</td>\n",
       "      <td>20587</td>\n",
       "      <td>0.1004</td>\n",
       "      <td>19143.172820</td>\n",
       "      <td>2</td>\n",
       "      <td>0</td>\n",
       "      <td>NaN</td>\n",
       "      <td>2</td>\n",
       "    </tr>\n",
       "    <tr>\n",
       "      <th>6721</th>\n",
       "      <td>16.12.2020 14:00:00.000 GMT-0500</td>\n",
       "      <td>20588</td>\n",
       "      <td>20768</td>\n",
       "      <td>20555</td>\n",
       "      <td>20742</td>\n",
       "      <td>0.1585</td>\n",
       "      <td>19164.349339</td>\n",
       "      <td>2</td>\n",
       "      <td>0</td>\n",
       "      <td>NaN</td>\n",
       "      <td>2</td>\n",
       "    </tr>\n",
       "    <tr>\n",
       "      <th>6722</th>\n",
       "      <td>16.12.2020 15:00:00.000 GMT-0500</td>\n",
       "      <td>20743</td>\n",
       "      <td>20838</td>\n",
       "      <td>20739</td>\n",
       "      <td>20804</td>\n",
       "      <td>0.1104</td>\n",
       "      <td>19186.066566</td>\n",
       "      <td>2</td>\n",
       "      <td>0</td>\n",
       "      <td>NaN</td>\n",
       "      <td>2</td>\n",
       "    </tr>\n",
       "    <tr>\n",
       "      <th>6723</th>\n",
       "      <td>16.12.2020 16:00:00.000 GMT-0500</td>\n",
       "      <td>20804</td>\n",
       "      <td>21281</td>\n",
       "      <td>20723</td>\n",
       "      <td>21185</td>\n",
       "      <td>0.1244</td>\n",
       "      <td>19212.542506</td>\n",
       "      <td>2</td>\n",
       "      <td>0</td>\n",
       "      <td>NaN</td>\n",
       "      <td>2</td>\n",
       "    </tr>\n",
       "    <tr>\n",
       "      <th>6724</th>\n",
       "      <td>16.12.2020 17:00:00.000 GMT-0500</td>\n",
       "      <td>21185</td>\n",
       "      <td>21438</td>\n",
       "      <td>21179</td>\n",
       "      <td>21376</td>\n",
       "      <td>0.1301</td>\n",
       "      <td>19241.197572</td>\n",
       "      <td>2</td>\n",
       "      <td>0</td>\n",
       "      <td>NaN</td>\n",
       "      <td>2</td>\n",
       "    </tr>\n",
       "    <tr>\n",
       "      <th>6725</th>\n",
       "      <td>16.12.2020 18:00:00.000 GMT-0500</td>\n",
       "      <td>21376</td>\n",
       "      <td>21534</td>\n",
       "      <td>21210</td>\n",
       "      <td>21340</td>\n",
       "      <td>0.0866</td>\n",
       "      <td>19268.996280</td>\n",
       "      <td>2</td>\n",
       "      <td>0</td>\n",
       "      <td>NaN</td>\n",
       "      <td>2</td>\n",
       "    </tr>\n",
       "    <tr>\n",
       "      <th>6726</th>\n",
       "      <td>16.12.2020 19:00:00.000 GMT-0500</td>\n",
       "      <td>21339</td>\n",
       "      <td>21396</td>\n",
       "      <td>21233</td>\n",
       "      <td>21389</td>\n",
       "      <td>0.1617</td>\n",
       "      <td>19297.075799</td>\n",
       "      <td>2</td>\n",
       "      <td>0</td>\n",
       "      <td>NaN</td>\n",
       "      <td>2</td>\n",
       "    </tr>\n",
       "    <tr>\n",
       "      <th>6727</th>\n",
       "      <td>16.12.2020 20:00:00.000 GMT-0500</td>\n",
       "      <td>21389</td>\n",
       "      <td>21852</td>\n",
       "      <td>21388</td>\n",
       "      <td>21722</td>\n",
       "      <td>0.1869</td>\n",
       "      <td>19329.194000</td>\n",
       "      <td>2</td>\n",
       "      <td>0</td>\n",
       "      <td>NaN</td>\n",
       "      <td>2</td>\n",
       "    </tr>\n",
       "    <tr>\n",
       "      <th>6728</th>\n",
       "      <td>16.12.2020 21:00:00.000 GMT-0500</td>\n",
       "      <td>21722</td>\n",
       "      <td>21983</td>\n",
       "      <td>21637</td>\n",
       "      <td>21912</td>\n",
       "      <td>0.2137</td>\n",
       "      <td>19363.403351</td>\n",
       "      <td>2</td>\n",
       "      <td>0</td>\n",
       "      <td>NaN</td>\n",
       "      <td>2</td>\n",
       "    </tr>\n",
       "    <tr>\n",
       "      <th>8776</th>\n",
       "      <td>13.03.2021 05:00:00.000 GMT-0500</td>\n",
       "      <td>57528</td>\n",
       "      <td>59678</td>\n",
       "      <td>57394</td>\n",
       "      <td>59324</td>\n",
       "      <td>0.0892</td>\n",
       "      <td>54594.547995</td>\n",
       "      <td>2</td>\n",
       "      <td>0</td>\n",
       "      <td>NaN</td>\n",
       "      <td>2</td>\n",
       "    </tr>\n",
       "    <tr>\n",
       "      <th>8777</th>\n",
       "      <td>13.03.2021 06:00:00.000 GMT-0500</td>\n",
       "      <td>59324</td>\n",
       "      <td>60022</td>\n",
       "      <td>59318</td>\n",
       "      <td>59780</td>\n",
       "      <td>0.0754</td>\n",
       "      <td>54663.229478</td>\n",
       "      <td>2</td>\n",
       "      <td>0</td>\n",
       "      <td>NaN</td>\n",
       "      <td>2</td>\n",
       "    </tr>\n",
       "    <tr>\n",
       "      <th>8778</th>\n",
       "      <td>13.03.2021 07:00:00.000 GMT-0500</td>\n",
       "      <td>59781</td>\n",
       "      <td>60344</td>\n",
       "      <td>59237</td>\n",
       "      <td>59840</td>\n",
       "      <td>0.0714</td>\n",
       "      <td>54731.795975</td>\n",
       "      <td>2</td>\n",
       "      <td>0</td>\n",
       "      <td>NaN</td>\n",
       "      <td>2</td>\n",
       "    </tr>\n",
       "    <tr>\n",
       "      <th>8779</th>\n",
       "      <td>13.03.2021 08:00:00.000 GMT-0500</td>\n",
       "      <td>59838</td>\n",
       "      <td>60097</td>\n",
       "      <td>59448</td>\n",
       "      <td>59882</td>\n",
       "      <td>0.0629</td>\n",
       "      <td>54800.010598</td>\n",
       "      <td>2</td>\n",
       "      <td>0</td>\n",
       "      <td>NaN</td>\n",
       "      <td>2</td>\n",
       "    </tr>\n",
       "    <tr>\n",
       "      <th>8780</th>\n",
       "      <td>13.03.2021 09:00:00.000 GMT-0500</td>\n",
       "      <td>59882</td>\n",
       "      <td>60032</td>\n",
       "      <td>59672</td>\n",
       "      <td>59714</td>\n",
       "      <td>0.0502</td>\n",
       "      <td>54865.096550</td>\n",
       "      <td>2</td>\n",
       "      <td>0</td>\n",
       "      <td>NaN</td>\n",
       "      <td>2</td>\n",
       "    </tr>\n",
       "    <tr>\n",
       "      <th>8781</th>\n",
       "      <td>13.03.2021 10:00:00.000 GMT-0500</td>\n",
       "      <td>59713</td>\n",
       "      <td>59891</td>\n",
       "      <td>59492</td>\n",
       "      <td>59603</td>\n",
       "      <td>0.0544</td>\n",
       "      <td>54927.850238</td>\n",
       "      <td>2</td>\n",
       "      <td>0</td>\n",
       "      <td>NaN</td>\n",
       "      <td>2</td>\n",
       "    </tr>\n",
       "    <tr>\n",
       "      <th>8782</th>\n",
       "      <td>13.03.2021 11:00:00.000 GMT-0500</td>\n",
       "      <td>59604</td>\n",
       "      <td>59890</td>\n",
       "      <td>59419</td>\n",
       "      <td>59800</td>\n",
       "      <td>0.0546</td>\n",
       "      <td>54992.382023</td>\n",
       "      <td>2</td>\n",
       "      <td>0</td>\n",
       "      <td>NaN</td>\n",
       "      <td>2</td>\n",
       "    </tr>\n",
       "    <tr>\n",
       "      <th>8783</th>\n",
       "      <td>13.03.2021 12:00:00.000 GMT-0500</td>\n",
       "      <td>59800</td>\n",
       "      <td>60352</td>\n",
       "      <td>59742</td>\n",
       "      <td>60284</td>\n",
       "      <td>0.0484</td>\n",
       "      <td>55062.469679</td>\n",
       "      <td>2</td>\n",
       "      <td>0</td>\n",
       "      <td>NaN</td>\n",
       "      <td>2</td>\n",
       "    </tr>\n",
       "    <tr>\n",
       "      <th>8784</th>\n",
       "      <td>13.03.2021 13:00:00.000 GMT-0500</td>\n",
       "      <td>60284</td>\n",
       "      <td>60381</td>\n",
       "      <td>59962</td>\n",
       "      <td>60243</td>\n",
       "      <td>0.0479</td>\n",
       "      <td>55131.085974</td>\n",
       "      <td>2</td>\n",
       "      <td>0</td>\n",
       "      <td>NaN</td>\n",
       "      <td>2</td>\n",
       "    </tr>\n",
       "  </tbody>\n",
       "</table>\n",
       "</div>"
      ],
      "text/plain": [
       "                            Local time   open   high    low  close   volume  \\\n",
       "1135  09.03.2020 00:00:00.000 GMT-0400   8016   8017   7759   7803  52.0508   \n",
       "1137  09.03.2020 02:00:00.000 GMT-0400   7881   7949   7802   7832  56.0575   \n",
       "1142  09.03.2020 07:00:00.000 GMT-0400   7838   7838   7713   7753  29.1660   \n",
       "1143  09.03.2020 08:00:00.000 GMT-0400   7755   7864   7730   7827  27.8051   \n",
       "1144  09.03.2020 09:00:00.000 GMT-0400   7827   7838   7650   7743  25.0234   \n",
       "1145  09.03.2020 10:00:00.000 GMT-0400   7742   7783   7646   7673  22.9305   \n",
       "2039  29.04.2020 16:00:00.000 GMT-0400   8678   8880   8660   8878  64.3586   \n",
       "2040  29.04.2020 17:00:00.000 GMT-0400   8878   8890   8722   8813  64.5599   \n",
       "2042  29.04.2020 19:00:00.000 GMT-0400   8709   8744   8662   8734  53.9742   \n",
       "2043  29.04.2020 20:00:00.000 GMT-0400   8734   8770   8666   8765  59.4340   \n",
       "6230  26.11.2020 03:00:00.000 GMT-0500  17583  17583  16312  16819   0.2073   \n",
       "6231  26.11.2020 04:00:00.000 GMT-0500  16819  17106  16661  17037   0.1490   \n",
       "6233  26.11.2020 06:00:00.000 GMT-0500  17277  17408  16944  17083   0.1221   \n",
       "6235  26.11.2020 08:00:00.000 GMT-0500  17369  17397  17044  17046   0.1075   \n",
       "6236  26.11.2020 09:00:00.000 GMT-0500  17046  17109  16737  16742   0.1301   \n",
       "6237  26.11.2020 10:00:00.000 GMT-0500  16739  17222  16711  16885   0.1214   \n",
       "6716  16.12.2020 09:00:00.000 GMT-0500  20328  20795  20208  20694   0.2153   \n",
       "6717  16.12.2020 10:00:00.000 GMT-0500  20695  20741  20553  20663   0.1667   \n",
       "6718  16.12.2020 11:00:00.000 GMT-0500  20664  20870  20651  20868   0.1586   \n",
       "6719  16.12.2020 12:00:00.000 GMT-0500  20868  20870  20594  20643   0.1315   \n",
       "6720  16.12.2020 13:00:00.000 GMT-0500  20642  20745  20555  20587   0.1004   \n",
       "6721  16.12.2020 14:00:00.000 GMT-0500  20588  20768  20555  20742   0.1585   \n",
       "6722  16.12.2020 15:00:00.000 GMT-0500  20743  20838  20739  20804   0.1104   \n",
       "6723  16.12.2020 16:00:00.000 GMT-0500  20804  21281  20723  21185   0.1244   \n",
       "6724  16.12.2020 17:00:00.000 GMT-0500  21185  21438  21179  21376   0.1301   \n",
       "6725  16.12.2020 18:00:00.000 GMT-0500  21376  21534  21210  21340   0.0866   \n",
       "6726  16.12.2020 19:00:00.000 GMT-0500  21339  21396  21233  21389   0.1617   \n",
       "6727  16.12.2020 20:00:00.000 GMT-0500  21389  21852  21388  21722   0.1869   \n",
       "6728  16.12.2020 21:00:00.000 GMT-0500  21722  21983  21637  21912   0.2137   \n",
       "8776  13.03.2021 05:00:00.000 GMT-0500  57528  59678  57394  59324   0.0892   \n",
       "8777  13.03.2021 06:00:00.000 GMT-0500  59324  60022  59318  59780   0.0754   \n",
       "8778  13.03.2021 07:00:00.000 GMT-0500  59781  60344  59237  59840   0.0714   \n",
       "8779  13.03.2021 08:00:00.000 GMT-0500  59838  60097  59448  59882   0.0629   \n",
       "8780  13.03.2021 09:00:00.000 GMT-0500  59882  60032  59672  59714   0.0502   \n",
       "8781  13.03.2021 10:00:00.000 GMT-0500  59713  59891  59492  59603   0.0544   \n",
       "8782  13.03.2021 11:00:00.000 GMT-0500  59604  59890  59419  59800   0.0546   \n",
       "8783  13.03.2021 12:00:00.000 GMT-0500  59800  60352  59742  60284   0.0484   \n",
       "8784  13.03.2021 13:00:00.000 GMT-0500  60284  60381  59962  60243   0.0479   \n",
       "\n",
       "               EMA  EMASignal  isPivot  pointpos  pattern_detected  \n",
       "1135   8833.012312          0        0       NaN                 1  \n",
       "1137   8807.311449          0        0       NaN                 1  \n",
       "1142   8744.915660          0        0       NaN                 1  \n",
       "1143   8732.757837          1        0       NaN                 1  \n",
       "1144   8719.648461          1        0       NaN                 1  \n",
       "1145   8705.785568          1        0       NaN                 1  \n",
       "2039   7577.810046          2        0       NaN                 2  \n",
       "2040   7594.170177          2        0       NaN                 2  \n",
       "2042   7623.837644          2        0       NaN                 2  \n",
       "2043   7638.952377          2        0       NaN                 2  \n",
       "6230  18432.371810          0        0       NaN                 1  \n",
       "6231  18413.890064          0        0       NaN                 1  \n",
       "6233  18381.403680          0        0       NaN                 1  \n",
       "6235  18350.484501          0        0       NaN                 1  \n",
       "6236  18329.180070          0        0       NaN                 1  \n",
       "6237  18310.051858          0        0       NaN                 1  \n",
       "6716  19058.462492          2        0       NaN                 2  \n",
       "6717  19079.714645          2        0       NaN                 2  \n",
       "6718  19103.400544          2        0       NaN                 2  \n",
       "6719  19123.792589          2        0       NaN                 2  \n",
       "6720  19143.172820          2        0       NaN                 2  \n",
       "6721  19164.349339          2        0       NaN                 2  \n",
       "6722  19186.066566          2        0       NaN                 2  \n",
       "6723  19212.542506          2        0       NaN                 2  \n",
       "6724  19241.197572          2        0       NaN                 2  \n",
       "6725  19268.996280          2        0       NaN                 2  \n",
       "6726  19297.075799          2        0       NaN                 2  \n",
       "6727  19329.194000          2        0       NaN                 2  \n",
       "6728  19363.403351          2        0       NaN                 2  \n",
       "8776  54594.547995          2        0       NaN                 2  \n",
       "8777  54663.229478          2        0       NaN                 2  \n",
       "8778  54731.795975          2        0       NaN                 2  \n",
       "8779  54800.010598          2        0       NaN                 2  \n",
       "8780  54865.096550          2        0       NaN                 2  \n",
       "8781  54927.850238          2        0       NaN                 2  \n",
       "8782  54992.382023          2        0       NaN                 2  \n",
       "8783  55062.469679          2        0       NaN                 2  \n",
       "8784  55131.085974          2        0       NaN                 2  "
      ]
     },
     "execution_count": 15,
     "metadata": {},
     "output_type": "execute_result"
    }
   ],
   "source": [
    "df[df['pattern_detected']!=0]"
   ]
  },
  {
   "cell_type": "code",
   "execution_count": null,
   "metadata": {},
   "outputs": [],
   "source": []
  }
 ],
 "metadata": {
  "kernelspec": {
   "display_name": "Python 3 (ipykernel)",
   "language": "python",
   "name": "python3"
  },
  "language_info": {
   "codemirror_mode": {
    "name": "ipython",
    "version": 3
   },
   "file_extension": ".py",
   "mimetype": "text/x-python",
   "name": "python",
   "nbconvert_exporter": "python",
   "pygments_lexer": "ipython3",
   "version": "3.11.4"
  }
 },
 "nbformat": 4,
 "nbformat_minor": 2
}
