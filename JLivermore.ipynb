{
 "cells": [
  {
   "cell_type": "code",
   "execution_count": 1,
   "id": "46c7734c",
   "metadata": {},
   "outputs": [],
   "source": [
    "import pandas as pd\n",
    "import os\n",
    "import numpy as np\n",
    "import matplotlib.pyplot as plt\n",
    "from scipy.signal import savgol_filter\n",
    "from math import sqrt\n",
    "from sklearn.linear_model import LinearRegression"
   ]
  },
  {
   "cell_type": "code",
   "execution_count": 2,
   "id": "9be820bb",
   "metadata": {},
   "outputs": [],
   "source": [
    "## Load files\n",
    "def load_and_prepare_data(folder_path):\n",
    "    \"\"\"Loads and prepares data from CSV files in a given folder.\"\"\"\n",
    "    data_frames = {}\n",
    "    for file_name in os.listdir(folder_path):\n",
    "        if file_name.endswith(\".csv\"):\n",
    "            instrument_name = file_name.split(\".csv\")[0]\n",
    "            file_path = os.path.join(folder_path, file_name)\n",
    "            df = pd.read_csv(file_path)\n",
    "            asset_name = instrument_name.split(\"_\")[0]\n",
    "            data_frames[asset_name] = df\n",
    "    return data_frames\n",
    "\n",
    "folder_path = 'RawDataDoNotModify'\n",
    "data_frames = load_and_prepare_data(folder_path)"
   ]
  },
  {
   "cell_type": "code",
   "execution_count": 3,
   "id": "8c9836fe",
   "metadata": {},
   "outputs": [],
   "source": [
    "df = data_frames['BTCUSD']"
   ]
  },
  {
   "cell_type": "code",
   "execution_count": 4,
   "id": "eb12775c",
   "metadata": {},
   "outputs": [
    {
     "data": {
      "text/html": [
       "<div>\n",
       "<style scoped>\n",
       "    .dataframe tbody tr th:only-of-type {\n",
       "        vertical-align: middle;\n",
       "    }\n",
       "\n",
       "    .dataframe tbody tr th {\n",
       "        vertical-align: top;\n",
       "    }\n",
       "\n",
       "    .dataframe thead th {\n",
       "        text-align: right;\n",
       "    }\n",
       "</style>\n",
       "<table border=\"1\" class=\"dataframe\">\n",
       "  <thead>\n",
       "    <tr style=\"text-align: right;\">\n",
       "      <th></th>\n",
       "      <th>Local time</th>\n",
       "      <th>Open</th>\n",
       "      <th>High</th>\n",
       "      <th>Low</th>\n",
       "      <th>Close</th>\n",
       "      <th>Volume</th>\n",
       "    </tr>\n",
       "  </thead>\n",
       "  <tbody>\n",
       "    <tr>\n",
       "      <th>0</th>\n",
       "      <td>01.01.2020 00:00:00.000 GMT-0500</td>\n",
       "      <td>7101</td>\n",
       "      <td>7101</td>\n",
       "      <td>7101</td>\n",
       "      <td>7101</td>\n",
       "      <td>0.0</td>\n",
       "    </tr>\n",
       "    <tr>\n",
       "      <th>1</th>\n",
       "      <td>01.01.2020 01:00:00.000 GMT-0500</td>\n",
       "      <td>7101</td>\n",
       "      <td>7101</td>\n",
       "      <td>7101</td>\n",
       "      <td>7101</td>\n",
       "      <td>0.0</td>\n",
       "    </tr>\n",
       "    <tr>\n",
       "      <th>2</th>\n",
       "      <td>01.01.2020 02:00:00.000 GMT-0500</td>\n",
       "      <td>7101</td>\n",
       "      <td>7101</td>\n",
       "      <td>7101</td>\n",
       "      <td>7101</td>\n",
       "      <td>0.0</td>\n",
       "    </tr>\n",
       "    <tr>\n",
       "      <th>3</th>\n",
       "      <td>01.01.2020 03:00:00.000 GMT-0500</td>\n",
       "      <td>7101</td>\n",
       "      <td>7101</td>\n",
       "      <td>7101</td>\n",
       "      <td>7101</td>\n",
       "      <td>0.0</td>\n",
       "    </tr>\n",
       "    <tr>\n",
       "      <th>4</th>\n",
       "      <td>01.01.2020 04:00:00.000 GMT-0500</td>\n",
       "      <td>7101</td>\n",
       "      <td>7101</td>\n",
       "      <td>7101</td>\n",
       "      <td>7101</td>\n",
       "      <td>0.0</td>\n",
       "    </tr>\n",
       "  </tbody>\n",
       "</table>\n",
       "</div>"
      ],
      "text/plain": [
       "                         Local time  Open  High   Low  Close  Volume\n",
       "0  01.01.2020 00:00:00.000 GMT-0500  7101  7101  7101   7101     0.0\n",
       "1  01.01.2020 01:00:00.000 GMT-0500  7101  7101  7101   7101     0.0\n",
       "2  01.01.2020 02:00:00.000 GMT-0500  7101  7101  7101   7101     0.0\n",
       "3  01.01.2020 03:00:00.000 GMT-0500  7101  7101  7101   7101     0.0\n",
       "4  01.01.2020 04:00:00.000 GMT-0500  7101  7101  7101   7101     0.0"
      ]
     },
     "execution_count": 4,
     "metadata": {},
     "output_type": "execute_result"
    }
   ],
   "source": [
    "df.head()"
   ]
  },
  {
   "cell_type": "code",
   "execution_count": null,
   "id": "f98129cc",
   "metadata": {},
   "outputs": [],
   "source": []
  }
 ],
 "metadata": {
  "kernelspec": {
   "display_name": "Python 3 (ipykernel)",
   "language": "python",
   "name": "python3"
  },
  "language_info": {
   "codemirror_mode": {
    "name": "ipython",
    "version": 3
   },
   "file_extension": ".py",
   "mimetype": "text/x-python",
   "name": "python",
   "nbconvert_exporter": "python",
   "pygments_lexer": "ipython3",
   "version": "3.11.4"
  }
 },
 "nbformat": 4,
 "nbformat_minor": 5
}
