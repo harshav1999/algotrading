{
 "cells": [
  {
   "cell_type": "code",
   "execution_count": 1,
   "id": "b0620034",
   "metadata": {},
   "outputs": [],
   "source": [
    "import pandas as pd"
   ]
  },
  {
   "cell_type": "code",
   "execution_count": 2,
   "id": "35748618",
   "metadata": {},
   "outputs": [],
   "source": [
    "df = pd.read_csv('RawDataDoNotModify/BTCUSD_Candlestick_1_Hour_BID_01.01.2020-31.08.2024.csv')\n",
    "## Remove rows with no volume\n",
    "df = df[df['Volume']!=0]\n",
    "df.reset_index(drop=True, inplace=True)"
   ]
  },
  {
   "cell_type": "code",
   "execution_count": null,
   "id": "1750818f",
   "metadata": {},
   "outputs": [],
   "source": []
  }
 ],
 "metadata": {
  "kernelspec": {
   "display_name": "Python 3 (ipykernel)",
   "language": "python",
   "name": "python3"
  },
  "language_info": {
   "codemirror_mode": {
    "name": "ipython",
    "version": 3
   },
   "file_extension": ".py",
   "mimetype": "text/x-python",
   "name": "python",
   "nbconvert_exporter": "python",
   "pygments_lexer": "ipython3",
   "version": "3.11.4"
  }
 },
 "nbformat": 4,
 "nbformat_minor": 5
}
